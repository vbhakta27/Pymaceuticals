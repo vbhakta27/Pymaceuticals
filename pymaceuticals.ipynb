{
 "cells": [
  {
   "cell_type": "markdown",
   "metadata": {},
   "source": [
    "## Observations and Insights"
   ]
  },
  {
   "cell_type": "markdown",
   "metadata": {},
   "source": [
    "1. Ramicane and Capomulin were the only two drugs that reduced the tumor sizes. They were the only two drugs with average final tumor volume less than the starting tumor volume (45 mm3) for each mouse. The rest of the drugs just slowed the tumor growths down or were ineffective. \n",
    "2. The heavier the mouse the more likely they will have a larger tumor volume. Sex of the mouse did not matter since the data was split evenly between genders.\n",
    "3. Data might be slightly skewed for Ramican and Capomulin because those two drugs had more data points than the rest of the drugs"
   ]
  },
  {
   "cell_type": "markdown",
   "metadata": {},
   "source": []
  },
  {
   "cell_type": "markdown",
   "metadata": {},
   "source": [
    "## Dependencies and starter code"
   ]
  },
  {
   "cell_type": "code",
   "execution_count": 2,
   "metadata": {},
   "outputs": [
    {
     "data": {
      "text/html": [
       "<div>\n",
       "<style scoped>\n",
       "    .dataframe tbody tr th:only-of-type {\n",
       "        vertical-align: middle;\n",
       "    }\n",
       "\n",
       "    .dataframe tbody tr th {\n",
       "        vertical-align: top;\n",
       "    }\n",
       "\n",
       "    .dataframe thead th {\n",
       "        text-align: right;\n",
       "    }\n",
       "</style>\n",
       "<table border=\"1\" class=\"dataframe\">\n",
       "  <thead>\n",
       "    <tr style=\"text-align: right;\">\n",
       "      <th></th>\n",
       "      <th>Mouse ID</th>\n",
       "      <th>Drug Regimen</th>\n",
       "      <th>Sex</th>\n",
       "      <th>Age_months</th>\n",
       "      <th>Weight (g)</th>\n",
       "      <th>Timepoint</th>\n",
       "      <th>Tumor Volume (mm3)</th>\n",
       "      <th>Metastatic Sites</th>\n",
       "    </tr>\n",
       "  </thead>\n",
       "  <tbody>\n",
       "    <tr>\n",
       "      <td>0</td>\n",
       "      <td>k403</td>\n",
       "      <td>Ramicane</td>\n",
       "      <td>Male</td>\n",
       "      <td>21</td>\n",
       "      <td>16</td>\n",
       "      <td>0</td>\n",
       "      <td>45.000000</td>\n",
       "      <td>0</td>\n",
       "    </tr>\n",
       "    <tr>\n",
       "      <td>1</td>\n",
       "      <td>k403</td>\n",
       "      <td>Ramicane</td>\n",
       "      <td>Male</td>\n",
       "      <td>21</td>\n",
       "      <td>16</td>\n",
       "      <td>5</td>\n",
       "      <td>38.825898</td>\n",
       "      <td>0</td>\n",
       "    </tr>\n",
       "    <tr>\n",
       "      <td>2</td>\n",
       "      <td>k403</td>\n",
       "      <td>Ramicane</td>\n",
       "      <td>Male</td>\n",
       "      <td>21</td>\n",
       "      <td>16</td>\n",
       "      <td>10</td>\n",
       "      <td>35.014271</td>\n",
       "      <td>1</td>\n",
       "    </tr>\n",
       "    <tr>\n",
       "      <td>3</td>\n",
       "      <td>k403</td>\n",
       "      <td>Ramicane</td>\n",
       "      <td>Male</td>\n",
       "      <td>21</td>\n",
       "      <td>16</td>\n",
       "      <td>15</td>\n",
       "      <td>34.223992</td>\n",
       "      <td>1</td>\n",
       "    </tr>\n",
       "    <tr>\n",
       "      <td>4</td>\n",
       "      <td>k403</td>\n",
       "      <td>Ramicane</td>\n",
       "      <td>Male</td>\n",
       "      <td>21</td>\n",
       "      <td>16</td>\n",
       "      <td>20</td>\n",
       "      <td>32.997729</td>\n",
       "      <td>1</td>\n",
       "    </tr>\n",
       "  </tbody>\n",
       "</table>\n",
       "</div>"
      ],
      "text/plain": [
       "  Mouse ID Drug Regimen   Sex  Age_months  Weight (g)  Timepoint  \\\n",
       "0     k403     Ramicane  Male          21          16          0   \n",
       "1     k403     Ramicane  Male          21          16          5   \n",
       "2     k403     Ramicane  Male          21          16         10   \n",
       "3     k403     Ramicane  Male          21          16         15   \n",
       "4     k403     Ramicane  Male          21          16         20   \n",
       "\n",
       "   Tumor Volume (mm3)  Metastatic Sites  \n",
       "0           45.000000                 0  \n",
       "1           38.825898                 0  \n",
       "2           35.014271                 1  \n",
       "3           34.223992                 1  \n",
       "4           32.997729                 1  "
      ]
     },
     "execution_count": 2,
     "metadata": {},
     "output_type": "execute_result"
    }
   ],
   "source": [
    "# Dependencies and Setup\n",
    "import matplotlib.pyplot as plt\n",
    "import pandas as pd\n",
    "import scipy.stats as st\n",
    "import numpy as np\n",
    "from scipy.stats import linregress\n",
    "\n",
    "# Study data files\n",
    "mouse_metadata = \"data/Mouse_metadata.csv\"\n",
    "study_results = \"data/Study_results.csv\"\n",
    "\n",
    "# Read the mouse data and the study results\n",
    "mouse_metadata = pd.read_csv(mouse_metadata)\n",
    "study_results = pd.read_csv(study_results)\n",
    "\n",
    "# Combine the data into a single dataset\n",
    "complete_table = pd.merge(mouse_metadata, study_results, on=\"Mouse ID\")\n",
    "complete_table.head()"
   ]
  },
  {
   "cell_type": "markdown",
   "metadata": {},
   "source": [
    "## Summary statistics"
   ]
  },
  {
   "cell_type": "code",
   "execution_count": 3,
   "metadata": {},
   "outputs": [],
   "source": [
    "# Generate a summary statistics table of mean, median, variance, standard deviation, and SEM of the tumor volume for each regimen"
   ]
  },
  {
   "cell_type": "code",
   "execution_count": 4,
   "metadata": {},
   "outputs": [
    {
     "data": {
      "text/html": [
       "<div>\n",
       "<style scoped>\n",
       "    .dataframe tbody tr th:only-of-type {\n",
       "        vertical-align: middle;\n",
       "    }\n",
       "\n",
       "    .dataframe tbody tr th {\n",
       "        vertical-align: top;\n",
       "    }\n",
       "\n",
       "    .dataframe thead th {\n",
       "        text-align: right;\n",
       "    }\n",
       "</style>\n",
       "<table border=\"1\" class=\"dataframe\">\n",
       "  <thead>\n",
       "    <tr style=\"text-align: right;\">\n",
       "      <th></th>\n",
       "      <th>Mean Tumor Volume</th>\n",
       "      <th>Median Tumor Volume</th>\n",
       "      <th>Tumor Volume Variance</th>\n",
       "      <th>Tumor Volume Std. Dev.</th>\n",
       "      <th>Tumor Volume Std. Err.</th>\n",
       "    </tr>\n",
       "    <tr>\n",
       "      <th>Drug Regimen</th>\n",
       "      <th></th>\n",
       "      <th></th>\n",
       "      <th></th>\n",
       "      <th></th>\n",
       "      <th></th>\n",
       "    </tr>\n",
       "  </thead>\n",
       "  <tbody>\n",
       "    <tr>\n",
       "      <td>Capomulin</td>\n",
       "      <td>40.675741</td>\n",
       "      <td>41.557809</td>\n",
       "      <td>24.947764</td>\n",
       "      <td>4.994774</td>\n",
       "      <td>0.329346</td>\n",
       "    </tr>\n",
       "    <tr>\n",
       "      <td>Ceftamin</td>\n",
       "      <td>52.591172</td>\n",
       "      <td>51.776157</td>\n",
       "      <td>39.290177</td>\n",
       "      <td>6.268188</td>\n",
       "      <td>0.469821</td>\n",
       "    </tr>\n",
       "    <tr>\n",
       "      <td>Infubinol</td>\n",
       "      <td>52.884795</td>\n",
       "      <td>51.820584</td>\n",
       "      <td>43.128684</td>\n",
       "      <td>6.567243</td>\n",
       "      <td>0.492236</td>\n",
       "    </tr>\n",
       "    <tr>\n",
       "      <td>Ketapril</td>\n",
       "      <td>55.235638</td>\n",
       "      <td>53.698743</td>\n",
       "      <td>68.553577</td>\n",
       "      <td>8.279709</td>\n",
       "      <td>0.603860</td>\n",
       "    </tr>\n",
       "    <tr>\n",
       "      <td>Naftisol</td>\n",
       "      <td>54.331565</td>\n",
       "      <td>52.509285</td>\n",
       "      <td>66.173479</td>\n",
       "      <td>8.134708</td>\n",
       "      <td>0.596466</td>\n",
       "    </tr>\n",
       "    <tr>\n",
       "      <td>Placebo</td>\n",
       "      <td>54.033581</td>\n",
       "      <td>52.288934</td>\n",
       "      <td>61.168083</td>\n",
       "      <td>7.821003</td>\n",
       "      <td>0.581331</td>\n",
       "    </tr>\n",
       "    <tr>\n",
       "      <td>Propriva</td>\n",
       "      <td>52.322552</td>\n",
       "      <td>50.854632</td>\n",
       "      <td>42.351070</td>\n",
       "      <td>6.507770</td>\n",
       "      <td>0.512884</td>\n",
       "    </tr>\n",
       "    <tr>\n",
       "      <td>Ramicane</td>\n",
       "      <td>40.216745</td>\n",
       "      <td>40.673236</td>\n",
       "      <td>23.486704</td>\n",
       "      <td>4.846308</td>\n",
       "      <td>0.320955</td>\n",
       "    </tr>\n",
       "    <tr>\n",
       "      <td>Stelasyn</td>\n",
       "      <td>54.233149</td>\n",
       "      <td>52.431737</td>\n",
       "      <td>59.450562</td>\n",
       "      <td>7.710419</td>\n",
       "      <td>0.573111</td>\n",
       "    </tr>\n",
       "    <tr>\n",
       "      <td>Zoniferol</td>\n",
       "      <td>53.236507</td>\n",
       "      <td>51.818479</td>\n",
       "      <td>48.533355</td>\n",
       "      <td>6.966589</td>\n",
       "      <td>0.516398</td>\n",
       "    </tr>\n",
       "  </tbody>\n",
       "</table>\n",
       "</div>"
      ],
      "text/plain": [
       "              Mean Tumor Volume  Median Tumor Volume  Tumor Volume Variance  \\\n",
       "Drug Regimen                                                                  \n",
       "Capomulin             40.675741            41.557809              24.947764   \n",
       "Ceftamin              52.591172            51.776157              39.290177   \n",
       "Infubinol             52.884795            51.820584              43.128684   \n",
       "Ketapril              55.235638            53.698743              68.553577   \n",
       "Naftisol              54.331565            52.509285              66.173479   \n",
       "Placebo               54.033581            52.288934              61.168083   \n",
       "Propriva              52.322552            50.854632              42.351070   \n",
       "Ramicane              40.216745            40.673236              23.486704   \n",
       "Stelasyn              54.233149            52.431737              59.450562   \n",
       "Zoniferol             53.236507            51.818479              48.533355   \n",
       "\n",
       "              Tumor Volume Std. Dev.  Tumor Volume Std. Err.  \n",
       "Drug Regimen                                                  \n",
       "Capomulin                   4.994774                0.329346  \n",
       "Ceftamin                    6.268188                0.469821  \n",
       "Infubinol                   6.567243                0.492236  \n",
       "Ketapril                    8.279709                0.603860  \n",
       "Naftisol                    8.134708                0.596466  \n",
       "Placebo                     7.821003                0.581331  \n",
       "Propriva                    6.507770                0.512884  \n",
       "Ramicane                    4.846308                0.320955  \n",
       "Stelasyn                    7.710419                0.573111  \n",
       "Zoniferol                   6.966589                0.516398  "
      ]
     },
     "execution_count": 4,
     "metadata": {},
     "output_type": "execute_result"
    }
   ],
   "source": [
    "drug_grouped_df = complete_table.groupby(['Drug Regimen'])\n",
    "\n",
    "for drug in drug_grouped_df[\"Drug Regimen\"]:\n",
    "    mean_tumor_vol = drug_grouped_df['Tumor Volume (mm3)'].mean()\n",
    "    median_tumor_vol = drug_grouped_df['Tumor Volume (mm3)'].median()\n",
    "    tumor_vol_variance = drug_grouped_df['Tumor Volume (mm3)'].var()\n",
    "    tumor_vol_std_dev = drug_grouped_df['Tumor Volume (mm3)'].std()\n",
    "    tumor_vol_std_eer = drug_grouped_df['Tumor Volume (mm3)'].sem()\n",
    "\n",
    "tumor_vol_summary_stat = pd.DataFrame({                              \n",
    "                                'Mean Tumor Volume': mean_tumor_vol,\n",
    "                                'Median Tumor Volume': median_tumor_vol,\n",
    "                                'Tumor Volume Variance': tumor_vol_variance,\n",
    "                                'Tumor Volume Std. Dev.': tumor_vol_std_dev,\n",
    "                                'Tumor Volume Std. Err.': tumor_vol_std_eer})\n",
    "tumor_vol_summary_stat"
   ]
  },
  {
   "cell_type": "markdown",
   "metadata": {},
   "source": [
    "## Bar plots"
   ]
  },
  {
   "cell_type": "code",
   "execution_count": 5,
   "metadata": {},
   "outputs": [
    {
     "data": {
      "text/plain": [
       "Text(0, 0.5, 'Number of Data Points')"
      ]
     },
     "execution_count": 5,
     "metadata": {},
     "output_type": "execute_result"
    },
    {
     "data": {
      "image/png": "[encoded data removed]",
      "text/plain": [
       "<Figure size 432x288 with 1 Axes>"
      ]
     },
     "metadata": {
      "needs_background": "light"
     },
     "output_type": "display_data"
    }
   ],
   "source": [
    "# Generate a bar plot showing number of data points for each treatment regimen using pandas\n",
    "\n",
    "# Get the amount of each drugs' data points and their corresponding drug name\n",
    "drug_data_points = complete_table['Drug Regimen'].value_counts()\n",
    "drug_names = complete_table['Drug Regimen'].value_counts().keys()\n",
    "\n",
    "# Set x axis and tick locations\n",
    "x_axis = np.arange(len(drug_names))\n",
    "tick_locations = [value for value in x_axis]\n",
    "\n",
    "# Plot bar chart, format it, and add labels\n",
    "drug_data_points.plot(kind=\"bar\")\n",
    "plt.xticks(tick_locations, drug_names, rotation=\"vertical\")\n",
    "plt.xlabel(\"Drug Regimen\")\n",
    "plt.ylabel(\"Number of Data Points\")"
   ]
  },
  {
   "cell_type": "code",
   "execution_count": 6,
   "metadata": {},
   "outputs": [
    {
     "data": {
      "text/plain": [
       "Text(0, 0.5, 'Number of Data Points')"
      ]
     },
     "execution_count": 6,
     "metadata": {},
     "output_type": "execute_result"
    },
    {
     "data": {
      "image/png": "[encoded data removed]",
      "text/plain": [
       "<Figure size 432x288 with 1 Axes>"
      ]
     },
     "metadata": {
      "needs_background": "light"
     },
     "output_type": "display_data"
    }
   ],
   "source": [
    "# Generate a bar plot showing number of data points for each treatment regimen using pyplot\n",
    "\n",
    "plt.bar(x_axis, drug_data_points, alpha=1, align=\"center\")\n",
    "plt.xticks(tick_locations, drug_names, rotation=\"vertical\")\n",
    "plt.xlabel(\"Drug Regimen\")\n",
    "plt.ylabel(\"Number of Data Points\")"
   ]
  },
  {
   "cell_type": "markdown",
   "metadata": {},
   "source": [
    "## Pie plots"
   ]
  },
  {
   "cell_type": "code",
   "execution_count": 7,
   "metadata": {},
   "outputs": [
    {
     "data": {
      "text/plain": [
       "<matplotlib.axes._subplots.AxesSubplot at 0x1a1ad2ffd0>"
      ]
     },
     "execution_count": 7,
     "metadata": {},
     "output_type": "execute_result"
    },
    {
     "data": {
      "image/png": "[encoded data removed]",
      "text/plain": [
       "<Figure size 432x288 with 1 Axes>"
      ]
     },
     "metadata": {},
     "output_type": "display_data"
    }
   ],
   "source": [
    "# Generate a pie plot showing the distribution of female versus male mice using pandas\n",
    "\n",
    "unique_id = complete_table.drop_duplicates(subset =\"Mouse ID\")\n",
    "sex_points = unique_id['Sex'].value_counts()\n",
    "sex_points.plot(kind=\"pie\",autopct='%1.1f%%')"
   ]
  },
  {
   "cell_type": "code",
   "execution_count": 8,
   "metadata": {},
   "outputs": [
    {
     "data": {
      "image/png": "[encoded data removed]",
      "text/plain": [
       "<Figure size 432x288 with 1 Axes>"
      ]
     },
     "metadata": {},
     "output_type": "display_data"
    }
   ],
   "source": [
    "# Generate a pie plot showing the distribution of female versus male mice using pyplot\n",
    "\n",
    "sex_names = unique_id['Sex'].value_counts().keys()\n",
    "plt.pie(sex_points, labels=sex_names, autopct=\"%1.1f%%\")\n",
    "ylabel=plt.ylabel(\"Sex\")"
   ]
  },
  {
   "cell_type": "markdown",
   "metadata": {},
   "source": [
    "## Quartiles, outliers and boxplots"
   ]
  },
  {
   "cell_type": "code",
   "execution_count": 9,
   "metadata": {
    "scrolled": true
   },
   "outputs": [
    {
     "name": "stdout",
     "output_type": "stream",
     "text": [
      "    Drug Regimen  Tumor Volume (mm3)\n",
      "188     Ramicane           22.050126\n",
      "16     Capomulin           23.343598\n",
      "11     Capomulin           28.430964\n",
      "23     Capomulin           28.484033\n",
      "183     Ramicane           29.128472\n",
      "..           ...                 ...\n",
      "114     Naftisol           75.113288\n",
      "212     Stelasyn           75.123690\n",
      "93      Ketapril           75.294936\n",
      "108     Naftisol           76.668817\n",
      "91      Ketapril           78.567014\n",
      "\n",
      "[249 rows x 2 columns]\n",
      "Drug Regimen\n",
      "Ramicane     40.216745\n",
      "Capomulin    40.675741\n",
      "Propriva     52.322552\n",
      "Ceftamin     52.591172\n",
      "Infubinol    52.884795\n",
      "Zoniferol    53.236507\n",
      "Placebo      54.033581\n",
      "Stelasyn     54.233149\n",
      "Naftisol     54.331565\n",
      "Ketapril     55.235638\n",
      "Name: Tumor Volume (mm3), dtype: float64\n",
      "--------------------------------------------------\n",
      "These are the top 4 promising drugs: ['Ramicane', 'Capomulin', 'Propriva', 'Ceftamin']\n"
     ]
    }
   ],
   "source": [
    "# Calculate the final tumor volume of each mouse across four of the most promising treatment regimens. Calculate the IQR and quantitatively determine if there are any potential outliers. \n",
    "\n",
    "# Groupyby Drug Regimen and MouseID and only get row with maximum Timepoint for each Mouse ID and make into dataframe\n",
    "drug_mouse_grouped_df = complete_table.groupby(['Drug Regimen','Mouse ID'])['Timepoint'].max().to_frame()\n",
    "\n",
    "# Merge groupby dataframe with original dataframe on Mouse ID and Timepoint to get last tumor volumes\n",
    "merged_df = pd.merge(drug_mouse_grouped_df, complete_table, on=['Mouse ID',\"Timepoint\"])\n",
    "\n",
    "# Get tumor volume column and sort by tumor volume\n",
    "merged_df = merged_df[['Drug Regimen','Tumor Volume (mm3)']]\n",
    "merged_df.sort_values(by=['Tumor Volume (mm3)'], inplace=True)\n",
    "print(merged_df)\n",
    "\n",
    "# Groupby Drug Regimen so that I can get mean of tumor volume\n",
    "drug_grouped_merged_df = merged_df.groupby(['Drug Regimen'])\n",
    "\n",
    "for drug in drug_grouped_merged_df[\"Drug Regimen\"]:\n",
    "    mean_tumor_vol = drug_grouped_df['Tumor Volume (mm3)'].mean()\n",
    "\n",
    "# Sort mean tumor volume per drug \n",
    "mean_tumor_vol.sort_values(inplace=True)\n",
    "print(mean_tumor_vol)\n",
    "\n",
    "# Grab the top four drugs with the smallest avg tumor volumes\n",
    "best_drugs = mean_tumor_vol.keys().to_list()\n",
    "best_drugs = best_drugs[0:4]\n",
    "print('--------------------------------------------------')\n",
    "print(f'These are the top 4 promising drugs: {best_drugs}')\n",
    "\n",
    "# MY SOLUTION IS SHOWING RAMICANE, CAPOMULIN, PROPRIVA, AND CEFTAMIN AS THE TOP FOUR DRUGS BASED OF AVERAGE FINAL TUMOR VOLUME!!"
   ]
  },
  {
   "cell_type": "code",
   "execution_count": 10,
   "metadata": {},
   "outputs": [
    {
     "name": "stdout",
     "output_type": "stream",
     "text": [
      "The lower quartile of Ramicane's tumor volumes (mm3) is: 31.56046955\n",
      "The upper quartile of Ramicane's tumor volumes (mm3) is: 40.65900627\n",
      "The interquartile range of Ramicane's tumor volumes (mm3) is: 9.098536719999998\n",
      "Values below 17.912664470000003 for Ramicane could be outliers.\n",
      "Values above 54.30681135 for Ramicane could be outliers.\n",
      "\n",
      "The lower quartile of Capomulin's tumor volumes (mm3) is: 32.37735684\n",
      "The upper quartile of Capomulin's tumor volumes (mm3) is: 40.1592203\n",
      "The interquartile range of Capomulin's tumor volumes (mm3) is: 7.781863460000004\n",
      "Values below 20.70456164999999 for Capomulin could be outliers.\n",
      "Values above 51.83201549 for Capomulin could be outliers.\n",
      "\n",
      "The lower quartile of Propriva's tumor volumes (mm3) is: 49.12296898\n",
      "The upper quartile of Propriva's tumor volumes (mm3) is: 62.57087961\n",
      "The interquartile range of Propriva's tumor volumes (mm3) is: 13.447910629999996\n",
      "Values below 28.95110303500001 for Propriva could be outliers.\n",
      "Values above 82.742745555 for Propriva could be outliers.\n",
      "\n",
      "The lower quartile of Ceftamin's tumor volumes (mm3) is: 48.72207785\n",
      "The upper quartile of Ceftamin's tumor volumes (mm3) is: 64.29983003\n",
      "The interquartile range of Ceftamin's tumor volumes (mm3) is: 15.577752179999997\n",
      "Values below 25.355449580000002 for Ceftamin could be outliers.\n",
      "Values above 87.66645829999999 for Ceftamin could be outliers.\n",
      "\n"
     ]
    }
   ],
   "source": [
    "tumor_vol = []\n",
    "\n",
    "# Set index as Drugs so that we can use loc\n",
    "drug_regimen_df = merged_df.set_index(\"Drug Regimen\")\n",
    "\n",
    "# Loop through dataframe for only the top 4 drugs and get the IQR and determine if there are any outliers\n",
    "for drug in best_drugs:\n",
    "    drug_vols = drug_regimen_df.loc[drug, ['Tumor Volume (mm3)']]\n",
    "    quartiles = drug_vols['Tumor Volume (mm3)'].quantile([.25,.5,.75])\n",
    "    lowerq = quartiles[0.25]\n",
    "    upperq = quartiles[0.75]\n",
    "    iqr = upperq-lowerq\n",
    "    print(f\"The lower quartile of {drug}'s tumor volumes (mm3) is: {lowerq}\")\n",
    "    print(f\"The upper quartile of {drug}'s tumor volumes (mm3) is: {upperq}\")\n",
    "    print(f\"The interquartile range of {drug}'s tumor volumes (mm3) is: {iqr}\")\n",
    "    lower_bound = lowerq - (1.5*iqr)\n",
    "    upper_bound = upperq + (1.5*iqr)\n",
    "    print(f\"Values below {lower_bound} for {drug} could be outliers.\")\n",
    "    print(f\"Values above {upper_bound} for {drug} could be outliers.\")\n",
    "    \n",
    "    # Loop through each tumor volume for that drug and says if it is an outlier\n",
    "    for i in drug_vols['Tumor Volume (mm3)']:        \n",
    "        if i > upper_bound or i < lower_bound:\n",
    "            print(f'{i} is an outlier for {drug}')\n",
    "\n",
    "    # Create list of tumor volumes for plotting\n",
    "    tumor_vol.append(drug_vols['Tumor Volume (mm3)'].to_list())\n",
    "    print('')\n",
    "    "
   ]
  },
  {
   "cell_type": "code",
   "execution_count": 11,
   "metadata": {},
   "outputs": [
    {
     "data": {
      "image/png": "[encoded data removed]",
      "text/plain": [
       "<Figure size 432x288 with 1 Axes>"
      ]
     },
     "metadata": {
      "needs_background": "light"
     },
     "output_type": "display_data"
    }
   ],
   "source": [
    "# Generate a box plot of the final tumor volume of each mouse across four regimens of interest\n",
    "\n",
    "# I PLOTTED MY TOP FOUR DRUGS: RAMICANE, CAPOMULIN, PROPRIVA, AND CEFTAMIN\n",
    "fig, ax = plt.subplots()\n",
    "ax.boxplot(tumor_vol)\n",
    "ax.set_ylabel('Final Tumor Volume (mm3)')\n",
    "ax.set_xticklabels(best_drugs)\n",
    "plt.show()"
   ]
  },
  {
   "cell_type": "code",
   "execution_count": 11,
   "metadata": {},
   "outputs": [
    {
     "data": {
      "image/png": "[encoded data removed]",
      "text/plain": [
       "<Figure size 432x288 with 1 Axes>"
      ]
     },
     "metadata": {
      "needs_background": "light"
     },
     "output_type": "display_data"
    }
   ],
   "source": [
    "# Generate a box plot of the final tumor volume of each mouse across four regimens of interest\n",
    "# HOMEWORK SOLUTION PROVIDED BY TA'S"
   ]
  },
  {
   "cell_type": "markdown",
   "metadata": {},
   "source": [
    "## Line and scatter plots"
   ]
  },
  {
   "cell_type": "code",
   "execution_count": 12,
   "metadata": {},
   "outputs": [
    {
     "data": {
      "text/plain": [
       "(0, 50)"
      ]
     },
     "execution_count": 12,
     "metadata": {},
     "output_type": "execute_result"
    },
    {
     "data": {
      "image/png": "[encoded data removed]",
      "text/plain": [
       "<Figure size 432x288 with 1 Axes>"
      ]
     },
     "metadata": {
      "needs_background": "light"
     },
     "output_type": "display_data"
    }
   ],
   "source": [
    "# Generate a line plot of time point versus tumor volume for a mouse treated with Capomulin\n",
    "\n",
    "# Pick choice for drug and mouse ID \n",
    "drug_choice = \"Capomulin\"\n",
    "mouse_id_choice = 'l509'\n",
    "\n",
    "# Use indexing and loc to filter down to drug choice first then mouse ID\n",
    "drug_regimen_df = complete_table.set_index(\"Drug Regimen\")\n",
    "drug_choice_df = drug_regimen_df.loc[drug_choice, ['Mouse ID','Timepoint','Tumor Volume (mm3)']]\n",
    "drug_choice_id_df = drug_choice_df.set_index('Mouse ID')\n",
    "drug_choice_mouse_choice_df = drug_choice_id_df.loc[mouse_id_choice,:]\n",
    "drug_choice_mouse_choice_df\n",
    "\n",
    "# Plot Timepoint vs Tumor Vol for drug and mouse of your choice\n",
    "drug_choice_mouse_choice_df.plot.line(x='Timepoint', y='Tumor Volume (mm3)', legend=False)\n",
    "\n",
    "# Format plot with titles and axis titles\n",
    "plt.title(drug_choice+\" treatment of mouse \"+mouse_id_choice)\n",
    "plt.xlabel(\"Timepoint (Days)\")\n",
    "plt.ylabel(\"Tumor Volume (mm3)\")\n",
    "plt.xlim(0, 50)"
   ]
  },
  {
   "cell_type": "code",
   "execution_count": 13,
   "metadata": {},
   "outputs": [
    {
     "data": {
      "image/png": "[encoded data removed]",
      "text/plain": [
       "<Figure size 432x288 with 1 Axes>"
      ]
     },
     "metadata": {
      "needs_background": "light"
     },
     "output_type": "display_data"
    }
   ],
   "source": [
    "# Generate a scatter plot of mouse weight versus average tumor volume for the Capomulin regimen\n",
    "\n",
    "# Set index to drugs so we can filter rows only down to Capomulin\n",
    "drug_index_df = complete_table.set_index(['Drug Regimen'])\n",
    "capomulin_df = drug_index_df.loc['Capomulin']\n",
    "\n",
    "# Groupby Mouse ID so that averages for each mouse tumor volume can be taken\n",
    "capomulin_df = capomulin_df.groupby(['Mouse ID'])\n",
    "\n",
    "# Loop through to get each mouse's average weight and tumor volume\n",
    "for mouse in capomulin_df[\"Mouse ID\"]:\n",
    "    mean_weight = capomulin_df[\"Weight (g)\"].mean()\n",
    "    mean_tumor_vol = capomulin_df[\"Tumor Volume (mm3)\"].mean()\n",
    "\n",
    "# Plot out Average Tumor Volume versus Weight\n",
    "x_values = mean_weight\n",
    "y_values = mean_tumor_vol\n",
    "plt.scatter(x_values,y_values)\n",
    "plt.xlabel('Weight (g)')\n",
    "plt.ylabel('Average Tumor Volume (mm3)')\n",
    "plt.show()"
   ]
  },
  {
   "cell_type": "code",
   "execution_count": 14,
   "metadata": {},
   "outputs": [
    {
     "name": "stdout",
     "output_type": "stream",
     "text": [
      "The correlation between mouse weight and the average tumor volume is: 0.84\n"
     ]
    },
    {
     "data": {
      "image/png": "[encoded data removed]",
      "text/plain": [
       "<Figure size 432x288 with 1 Axes>"
      ]
     },
     "metadata": {
      "needs_background": "light"
     },
     "output_type": "display_data"
    }
   ],
   "source": [
    "# Calculate the correlation coefficient and linear regression model for mouse weight and average tumor volume for the Capomulin regimen\n",
    "\n",
    "(slope, intercept, rvalue, pvalue, stderr) = linregress(x_values, y_values)\n",
    "regress_values = x_values * slope + intercept\n",
    "line_eq = \"y = \" + str(round(slope,2)) + \"x + \" + str(round(intercept,2))\n",
    "plt.scatter(x_values,y_values)\n",
    "plt.plot(x_values,regress_values,\"r-\")\n",
    "plt.xlabel('Weight (g)')\n",
    "plt.ylabel('Average Tumor Volume (mm3)')\n",
    "print('The correlation between mouse weight and the average tumor volume is: {}'.format(round(rvalue,2)))\n",
    "plt.show()"
   ]
  },
  {
   "cell_type": "code",
   "execution_count": null,
   "metadata": {},
   "outputs": [],
   "source": []
  }
 ],
 "metadata": {
  "anaconda-cloud": {},
  "kernelspec": {
   "display_name": "Python 3",
   "language": "python",
   "name": "python3"
  },
  "language_info": {
   "codemirror_mode": {
    "name": "ipython",
    "version": 3
   },
   "file_extension": ".py",
   "mimetype": "text/x-python",
   "name": "python",
   "nbconvert_exporter": "python",
   "pygments_lexer": "ipython3",
   "version": "3.7.4"
  }
 },
 "nbformat": 4,
 "nbformat_minor": 4
}
